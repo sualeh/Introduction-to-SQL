{
 "cells": [
  {
   "cell_type": "markdown",
   "metadata": {},
   "source": [
    "# Queries\n",
    "\n",
    "The **Introduction to SQL** course is a goes over the basics, and covers querying a database, sorting results, and using joins and unions. It covers how to use aggregate data, and filter. We also look at how to create a table, and drop it.\n",
    "\n",
    "First, review the [slides for the **Introduction to SQL course**](https://docs.google.com/presentation/d/1-FhnRYrehe3VSlITi6geGqh-DrtSP6nPN4tiPgpbGqQ/present). After you are comfortable with the material, go through the [exercises](Exercises.md). We have provided a database with data that you can interact with for the exercises.\n",
    "\n",
    "> The slides and course material are copyrighted, and licensed under the [GNU General Public License](LICENSE).\n",
    "\n",
    "-----"
   ]
  },
  {
   "cell_type": "code",
   "execution_count": null,
   "metadata": {},
   "outputs": [],
   "source": [
    "%pip install -qq jupysql sqlalchemy"
   ]
  },
  {
   "cell_type": "code",
   "execution_count": null,
   "metadata": {},
   "outputs": [],
   "source": [
    "from sqlalchemy import create_engine\n",
    "from create_database import create_database\n",
    "\n",
    "engine = create_engine('sqlite:///:memory:')\n",
    "create_database(engine)"
   ]
  },
  {
   "cell_type": "code",
   "execution_count": null,
   "metadata": {},
   "outputs": [],
   "source": [
    "%reload_ext sql\n",
    "%config SqlMagic.displaycon = False\n",
    "%config SqlMagic.feedback = 0\n",
    "%sql engine"
   ]
  },
  {
   "cell_type": "markdown",
   "metadata": {},
   "source": [
    "## Simple Query\n",
    "\n",
    "- The results of a query look like a table\n",
    "- Query results also have columns and rows of data"
   ]
  },
  {
   "cell_type": "markdown",
   "metadata": {},
   "source": [
    "Show all projects"
   ]
  },
  {
   "cell_type": "code",
   "execution_count": null,
   "metadata": {},
   "outputs": [],
   "source": [
    "%%sql\n",
    "\n",
    "SELECT *\n",
    "FROM PRODUCTS"
   ]
  },
  {
   "cell_type": "markdown",
   "metadata": {},
   "source": [
    "## Queries with Filters\n",
    "\n",
    "- Use a `WHERE` clause to filter results\n",
    "- Use `AND` and `OR` to combine filters"
   ]
  },
  {
   "cell_type": "markdown",
   "metadata": {},
   "source": [
    "Show only gadgets"
   ]
  },
  {
   "cell_type": "code",
   "execution_count": null,
   "metadata": {},
   "outputs": [],
   "source": [
    "%%sql\n",
    "\n",
    "SELECT *\n",
    "FROM Products\n",
    "WHERE Category = 'Gadgets'"
   ]
  },
  {
   "cell_type": "markdown",
   "metadata": {},
   "source": [
    "Show products with a price more than $100"
   ]
  },
  {
   "cell_type": "code",
   "execution_count": null,
   "metadata": {},
   "outputs": [],
   "source": [
    "%%sql\n",
    "\n",
    "SELECT Product, Price, Manufacturer\n",
    "FROM Products\n",
    "WHERE Price > 100"
   ]
  },
  {
   "cell_type": "code",
   "execution_count": null,
   "metadata": {},
   "outputs": [],
   "source": [
    "%%sql\n",
    "\n",
    "SELECT *\n",
    "FROM Products\n",
    "WHERE Category = 'Gadgets' AND Price > 20"
   ]
  },
  {
   "cell_type": "markdown",
   "metadata": {},
   "source": [
    "# Eliminate Duplicates\n",
    "\n",
    "- Use `DISTINCT` to remove duplicates"
   ]
  },
  {
   "cell_type": "code",
   "execution_count": null,
   "metadata": {},
   "outputs": [],
   "source": [
    "%%sql\n",
    "\n",
    " SELECT DISTINCT Category\n",
    " FROM Products"
   ]
  },
  {
   "cell_type": "markdown",
   "metadata": {},
   "source": [
    "Try the same query without `DISTINCT` to see the difference"
   ]
  },
  {
   "cell_type": "markdown",
   "metadata": {},
   "source": [
    "## Order Results\n",
    "\n",
    "- Ties are broken by the second attribute on the `ORDER BY` list\n",
    "- Ordering is ascending, unless you specify the `DESC` keyword after a column name"
   ]
  },
  {
   "cell_type": "code",
   "execution_count": null,
   "metadata": {},
   "outputs": [],
   "source": [
    "%%sql\n",
    "\n",
    "SELECT Product, Price, Manufacturer\n",
    "FROM Products\n",
    "WHERE Category = 'Gadgets'\n",
    "ORDER BY Price, Product"
   ]
  }
 ],
 "metadata": {
  "kernelspec": {
   "display_name": "Python 3",
   "language": "python",
   "name": "python3"
  },
  "language_info": {
   "codemirror_mode": {
    "name": "ipython",
    "version": 3
   },
   "file_extension": ".py",
   "mimetype": "text/x-python",
   "name": "python",
   "nbconvert_exporter": "python",
   "pygments_lexer": "ipython3",
   "version": "3.13.2"
  }
 },
 "nbformat": 4,
 "nbformat_minor": 2
}
